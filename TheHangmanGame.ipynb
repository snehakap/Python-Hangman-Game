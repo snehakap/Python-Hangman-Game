{
  "nbformat": 4,
  "nbformat_minor": 0,
  "metadata": {
    "colab": {
      "provenance": [],
      "authorship_tag": "ABX9TyNNH8IVKpZJkrF98+b7Jh62",
      "include_colab_link": true
    },
    "kernelspec": {
      "name": "python3",
      "display_name": "Python 3"
    },
    "language_info": {
      "name": "python"
    }
  },
  "cells": [
    {
      "cell_type": "markdown",
      "metadata": {
        "id": "view-in-github",
        "colab_type": "text"
      },
      "source": [
        "<a href=\"https://colab.research.google.com/github/snehakap/Python-Hangman-Game/blob/main/TheHangmanGame.ipynb\" target=\"_parent\"><img src=\"https://colab.research.google.com/assets/colab-badge.svg\" alt=\"Open In Colab\"/></a>"
      ]
    },
    {
      "cell_type": "code",
      "source": [
        "import random"
      ],
      "metadata": {
        "id": "G2EzKR1JoJ5r"
      },
      "execution_count": null,
      "outputs": []
    },
    {
      "cell_type": "code",
      "source": [
        "def hangman():\n",
        "  word= random.choice([\"dog\",\"cat\",\"elephant\",\"lion\",\"ostrich\",\"hyena\",\"jaguar\",\"leopard\"])\n",
        "  ValidLetters='abcdefghijklmnopqrstuvwxyz'\n",
        "  turns=8\n",
        "  guessmade= ''\n",
        "\n",
        "  if guess not in word:\n",
        "    guess =  guess -1\n",
        "\n",
        "  if guess in ValidLetters:\n",
        "    guessmade = guessmade + guess\n",
        "  else:\n",
        "    print(\"Please enter a valid character\")\n",
        "\n",
        "  while len(word)>0:\n",
        "    main = \"\"\n",
        "    missed = 0\n",
        "    for letter in word:\n",
        "      if letter in guessmade:\n",
        "        main =  main + letter\n",
        "      else:\n",
        "        main = main + \"_\" + \"\"\n",
        "\n",
        "    if main in word:\n",
        "      print(main)\n",
        "      print(\"You win\")\n",
        "      break\n",
        "    print(\"guess the word: \",main)\n",
        "    guess = input()\n"
      ],
      "metadata": {
        "id": "FW7sLvnNoR1K"
      },
      "execution_count": null,
      "outputs": []
    },
    {
      "cell_type": "code",
      "execution_count": null,
      "metadata": {
        "colab": {
          "base_uri": "https://localhost:8080/",
          "height": 418
        },
        "id": "k2uitDNPkZu3",
        "outputId": "9be3aad5-fc44-444b-db27-cf27040c77d4"
      },
      "outputs": [
        {
          "output_type": "stream",
          "name": "stdout",
          "text": [
            "What is your name? s\n",
            "Welcome s, Let's play The Hangman game.\n",
            "****************************\n",
            "You have 8 attempts to guess the word.\n",
            "Guess the word: _ _ _ _ _ _ _ _\n"
          ]
        },
        {
          "output_type": "error",
          "ename": "UnboundLocalError",
          "evalue": "ignored",
          "traceback": [
            "\u001b[0;31m---------------------------------------------------------------------------\u001b[0m",
            "\u001b[0;31mUnboundLocalError\u001b[0m                         Traceback (most recent call last)",
            "\u001b[0;32m<ipython-input-11-0f3595b0c76c>\u001b[0m in \u001b[0;36m<cell line: 6>\u001b[0;34m()\u001b[0m\n\u001b[1;32m      4\u001b[0m \u001b[0mprint\u001b[0m\u001b[0;34m(\u001b[0m\u001b[0;34m\"You have 8 attempts to guess the word.\"\u001b[0m\u001b[0;34m)\u001b[0m\u001b[0;34m\u001b[0m\u001b[0;34m\u001b[0m\u001b[0m\n\u001b[1;32m      5\u001b[0m \u001b[0mprint\u001b[0m\u001b[0;34m(\u001b[0m\u001b[0;34m\"Guess the word: _ _ _ _ _ _ _ _\"\u001b[0m\u001b[0;34m)\u001b[0m\u001b[0;34m\u001b[0m\u001b[0;34m\u001b[0m\u001b[0m\n\u001b[0;32m----> 6\u001b[0;31m \u001b[0mprint\u001b[0m\u001b[0;34m(\u001b[0m\u001b[0mhangman\u001b[0m\u001b[0;34m(\u001b[0m\u001b[0;34m)\u001b[0m\u001b[0;34m)\u001b[0m\u001b[0;34m\u001b[0m\u001b[0;34m\u001b[0m\u001b[0m\n\u001b[0m",
            "\u001b[0;32m<ipython-input-10-38668f417be8>\u001b[0m in \u001b[0;36mhangman\u001b[0;34m()\u001b[0m\n\u001b[1;32m      5\u001b[0m   \u001b[0mguessmade\u001b[0m\u001b[0;34m=\u001b[0m \u001b[0;34m''\u001b[0m\u001b[0;34m\u001b[0m\u001b[0;34m\u001b[0m\u001b[0m\n\u001b[1;32m      6\u001b[0m \u001b[0;34m\u001b[0m\u001b[0m\n\u001b[0;32m----> 7\u001b[0;31m   \u001b[0;32mif\u001b[0m \u001b[0mguess\u001b[0m \u001b[0;32mnot\u001b[0m \u001b[0;32min\u001b[0m \u001b[0mword\u001b[0m\u001b[0;34m:\u001b[0m\u001b[0;34m\u001b[0m\u001b[0;34m\u001b[0m\u001b[0m\n\u001b[0m\u001b[1;32m      8\u001b[0m     \u001b[0mguess\u001b[0m \u001b[0;34m=\u001b[0m  \u001b[0mguess\u001b[0m \u001b[0;34m-\u001b[0m\u001b[0;36m1\u001b[0m\u001b[0;34m\u001b[0m\u001b[0;34m\u001b[0m\u001b[0m\n\u001b[1;32m      9\u001b[0m \u001b[0;34m\u001b[0m\u001b[0m\n",
            "\u001b[0;31mUnboundLocalError\u001b[0m: local variable 'guess' referenced before assignment"
          ]
        }
      ],
      "source": [
        "name=input(\"What is your name? \")\n",
        "print(f\"Welcome {name}, Let's play The Hangman game.\")\n",
        "print(\"****************************\")\n",
        "print(\"You have 8 attempts to guess the word.\")\n",
        "print(\"Guess the word: _ _ _ _ _ _ _ _\")\n",
        "print(hangman())"
      ]
    }
  ]
}